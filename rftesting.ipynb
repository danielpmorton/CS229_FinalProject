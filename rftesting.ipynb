{
 "cells": [
  {
   "cell_type": "code",
   "execution_count": 1,
   "metadata": {},
   "outputs": [],
   "source": [
    "from math import sqrt\n",
    "from matplotlib import pyplot\n",
    "from pandas import read_csv\n",
    "from pandas import DataFrame\n",
    "from pandas import concat\n",
    "from sklearn.preprocessing import MinMaxScaler\n",
    "from sklearn.metrics import mean_squared_error\n",
    "from keras.models import Sequential\n",
    "from keras.layers import Dense\n",
    "from keras.layers import LSTM\n",
    "import numpy as np\n",
    "\n",
    "import preprocessing\n",
    "import lstm\n",
    "import postprocessing \n",
    "import RF\n",
    "import linear\n"
   ]
  },
  {
   "cell_type": "code",
   "execution_count": 2,
   "metadata": {},
   "outputs": [
    {
     "name": "stdout",
     "output_type": "stream",
     "text": [
      "Fetching 'covid' for period:2020-08-04 2021-04-30\n",
      "Fetching 'coronavirus' for period:2020-08-04 2021-04-30\n",
      "Fetching 'covid-19' for period:2020-08-04 2021-04-30\n",
      "Fetching 'covid cases' for period:2020-08-04 2021-04-30\n",
      "Fetching 'coronavirus cases' for period:2020-08-04 2021-04-30\n",
      "Fetching 'covid symptoms' for period:2020-08-04 2021-04-30\n",
      "Fetching 'coronavirus symptoms' for period:2020-08-04 2021-04-30\n",
      "Fetching 'cough' for period:2020-08-04 2021-04-30\n",
      "Fetching 'virus' for period:2020-08-04 2021-04-30\n",
      "Fetching 'vaccine' for period:2020-08-04 2021-04-30\n",
      "Fetching 'covid vaccine' for period:2020-08-04 2021-04-30\n"
     ]
    }
   ],
   "source": [
    "\n",
    "# Fetch data \n",
    "\n",
    "# input parameters for getData\n",
    "startDateX = '2021-01-01'\n",
    "endDateX = '2021-04-30'\n",
    "startDateY = '2021-01-17'\n",
    "endDateY = '2021-05-16'\n",
    "geo = 'US-CA'\n",
    "state = 'California'\n",
    "\n",
    "# X is the google trends data and Y is the covid case number labels\n",
    "X, Y = preprocessing.getData(startDateX, endDateX, startDateY, endDateY, geo, state)\n",
    "\n",
    "# define train/test split over timeframe\n",
    "train_percentage = 0.9\n",
    "split_idx = round(len(Y)*train_percentage)\n"
   ]
  },
  {
   "cell_type": "code",
   "execution_count": 20,
   "metadata": {},
   "outputs": [],
   "source": [
    "\n",
    "# # Run linear regression model\n",
    "# linear_predict = linear.linear(X, Y, train_percentage)\n",
    "# linear_rms = postprocessing.RMSE(Y[split_idx:], linear_predict)\n",
    "\n",
    "# # Run LSTM model \n",
    "# lstm_predict = lstm.lstm(X, Y, train_percentage)\n",
    "# lstm_rms = postprocessing.RMSE(Y[split_idx:], lstm_predict)\n",
    "# print(lstm_rms)\n",
    "\n",
    "# Random Forest\n",
    "# Train-Test Split for RF\n",
    "RF_TTS_method = 1\n",
    "if RF_TTS_method == 0:\n",
    "    # Use the scikit learn train test split (random sampling)\n",
    "    TTS_kwargs = { 'test_size': 1-train_percentage,\n",
    "                'random_state': 0 } # Seed for random number generator\n",
    "    train_features, test_features, train_labels, test_labels = preprocessing.RF_TTS(X, Y, TTS_kwargs)\n",
    "else:\n",
    "    # Use our manual method of TTS at split_idx\n",
    "    train_features = X[:split_idx]\n",
    "    test_features = X[split_idx:]\n",
    "    train_labels = Y[:split_idx]\n",
    "    test_labels = Y[split_idx:]\n",
    "# Run RF model\n",
    "RF_kwargs = {   'bootstrap': True,\n",
    "                'criterion': 'squared_error',\n",
    "                'max_depth': None, \n",
    "                'min_samples_leaf': 1,\n",
    "                'n_estimators': 1000,\n",
    "                'max_samples': 0.5, \n",
    "                'min_samples_split': 2, \n",
    "                'random_state': 0 } # Seed for random number generator\n",
    "RFmodel, RF_predict = RF.randomForest(train_features, test_features, train_labels, RF_kwargs)\n",
    "\n",
    "# postprocessing.plotTrainTest(Y, linear_predict, train_percentage, 'Linear Regression')\n",
    "\n",
    "# # Postprocessing for LSTM\n",
    "# postprocessing.plotTrainTest(Y, lstm_predict, train_percentage, 'LSTM')\n"
   ]
  },
  {
   "cell_type": "code",
   "execution_count": 21,
   "metadata": {},
   "outputs": [
    {
     "data": {
      "text/plain": [
       "11.0"
      ]
     },
     "execution_count": 21,
     "metadata": {},
     "output_type": "execute_result"
    }
   ],
   "source": [
    "numTrees = len(RFmodel.estimators_)\n",
    "featureArray = np.zeros(numTrees)\n",
    "for i in range(numTrees):\n",
    "    featureArray[i] = RFmodel.estimators_[i].n_features_in_\n",
    "\n",
    "np.mean(featureArray)\n"
   ]
  },
  {
   "cell_type": "code",
   "execution_count": 19,
   "metadata": {},
   "outputs": [
    {
     "data": {
      "text/plain": [
       "11"
      ]
     },
     "execution_count": 19,
     "metadata": {},
     "output_type": "execute_result"
    }
   ],
   "source": [
    "RFmodel.estimators_[0].n_features_in_"
   ]
  },
  {
   "cell_type": "code",
   "execution_count": null,
   "metadata": {},
   "outputs": [],
   "source": [
    "\n",
    "# Postprocessing for RF\n",
    "# Note: can probably use the same postprocessing function as with LSTM for this\n",
    "\n",
    "postprocessing.plotTrainTest(Y, RF_predict, train_percentage, \"Random Forest\")\n",
    "\n",
    "# feature_list = list(X.columns)\n",
    "# features = np.array(X)\n",
    "# postprocessing.plotRF(features, feature_list, Y, RF_predict)\n",
    "# postprocessing.getRFImportances(RFmodel, feature_list)\n",
    "# postprocessing.showAccuracyInfo(RF_predict, test_labels)\n",
    "# postprocessing.plotRFTrees(RFmodel, feature_list, train_features, train_labels) # not working!!\n"
   ]
  }
 ],
 "metadata": {
  "interpreter": {
   "hash": "7cf3cfb4d2a53586223bf4603cd7f9e645cf44a77dbcec96182c9a81e54296ad"
  },
  "kernelspec": {
   "display_name": "Python 3.9.9 64-bit (windows store)",
   "language": "python",
   "name": "python3"
  },
  "language_info": {
   "codemirror_mode": {
    "name": "ipython",
    "version": 3
   },
   "file_extension": ".py",
   "mimetype": "text/x-python",
   "name": "python",
   "nbconvert_exporter": "python",
   "pygments_lexer": "ipython3",
   "version": "3.9.9"
  },
  "orig_nbformat": 4
 },
 "nbformat": 4,
 "nbformat_minor": 2
}
